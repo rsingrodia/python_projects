{
 "cells": [
  {
   "cell_type": "code",
   "execution_count": 59,
   "metadata": {},
   "outputs": [],
   "source": [
    "# Factoring Data Analysis\n",
    "# Import data from Kaggle using API\n",
    "import os\n",
    "import kaggle\n",
    "kaggle.api.authenticate()\n",
    "\n",
    "kaggle.api.dataset_download_files('hhenry/finance-factoring-ibm-late-payment-histories', path=os.path.join(\"datasets\", \"FactoringData\"), unzip=True)"
   ]
  },
  {
   "cell_type": "code",
   "execution_count": 60,
   "metadata": {},
   "outputs": [],
   "source": [
    "# Load saved data in pandas dataframe\n",
    "import pandas as pd\n",
    "data = pd.read_csv(os.path.join(\"datasets\", \"FactoringData\",\"WA_Fn-UseC_-Accounts-Receivable.csv\"))"
   ]
  },
  {
   "cell_type": "code",
   "execution_count": 61,
   "metadata": {},
   "outputs": [
    {
     "data": {
      "text/html": [
       "<div>\n",
       "<style scoped>\n",
       "    .dataframe tbody tr th:only-of-type {\n",
       "        vertical-align: middle;\n",
       "    }\n",
       "\n",
       "    .dataframe tbody tr th {\n",
       "        vertical-align: top;\n",
       "    }\n",
       "\n",
       "    .dataframe thead th {\n",
       "        text-align: right;\n",
       "    }\n",
       "</style>\n",
       "<table border=\"1\" class=\"dataframe\">\n",
       "  <thead>\n",
       "    <tr style=\"text-align: right;\">\n",
       "      <th></th>\n",
       "      <th>countryCode</th>\n",
       "      <th>customerID</th>\n",
       "      <th>PaperlessDate</th>\n",
       "      <th>invoiceNumber</th>\n",
       "      <th>InvoiceDate</th>\n",
       "      <th>DueDate</th>\n",
       "      <th>InvoiceAmount</th>\n",
       "      <th>Disputed</th>\n",
       "      <th>SettledDate</th>\n",
       "      <th>PaperlessBill</th>\n",
       "      <th>DaysToSettle</th>\n",
       "      <th>DaysLate</th>\n",
       "    </tr>\n",
       "  </thead>\n",
       "  <tbody>\n",
       "    <tr>\n",
       "      <th>0</th>\n",
       "      <td>391</td>\n",
       "      <td>0379-NEVHP</td>\n",
       "      <td>4/6/2013</td>\n",
       "      <td>611365</td>\n",
       "      <td>1/2/2013</td>\n",
       "      <td>2/1/2013</td>\n",
       "      <td>55.94</td>\n",
       "      <td>No</td>\n",
       "      <td>1/15/2013</td>\n",
       "      <td>Paper</td>\n",
       "      <td>13</td>\n",
       "      <td>0</td>\n",
       "    </tr>\n",
       "    <tr>\n",
       "      <th>1</th>\n",
       "      <td>406</td>\n",
       "      <td>8976-AMJEO</td>\n",
       "      <td>3/3/2012</td>\n",
       "      <td>7900770</td>\n",
       "      <td>1/26/2013</td>\n",
       "      <td>2/25/2013</td>\n",
       "      <td>61.74</td>\n",
       "      <td>Yes</td>\n",
       "      <td>3/3/2013</td>\n",
       "      <td>Electronic</td>\n",
       "      <td>36</td>\n",
       "      <td>6</td>\n",
       "    </tr>\n",
       "    <tr>\n",
       "      <th>2</th>\n",
       "      <td>391</td>\n",
       "      <td>2820-XGXSB</td>\n",
       "      <td>1/26/2012</td>\n",
       "      <td>9231909</td>\n",
       "      <td>7/3/2013</td>\n",
       "      <td>8/2/2013</td>\n",
       "      <td>65.88</td>\n",
       "      <td>No</td>\n",
       "      <td>7/8/2013</td>\n",
       "      <td>Electronic</td>\n",
       "      <td>5</td>\n",
       "      <td>0</td>\n",
       "    </tr>\n",
       "    <tr>\n",
       "      <th>3</th>\n",
       "      <td>406</td>\n",
       "      <td>9322-YCTQO</td>\n",
       "      <td>4/6/2012</td>\n",
       "      <td>9888306</td>\n",
       "      <td>2/10/2013</td>\n",
       "      <td>3/12/2013</td>\n",
       "      <td>105.92</td>\n",
       "      <td>No</td>\n",
       "      <td>3/17/2013</td>\n",
       "      <td>Electronic</td>\n",
       "      <td>35</td>\n",
       "      <td>5</td>\n",
       "    </tr>\n",
       "    <tr>\n",
       "      <th>4</th>\n",
       "      <td>818</td>\n",
       "      <td>6627-ELFBK</td>\n",
       "      <td>11/26/2012</td>\n",
       "      <td>15752855</td>\n",
       "      <td>10/25/2012</td>\n",
       "      <td>11/24/2012</td>\n",
       "      <td>72.27</td>\n",
       "      <td>Yes</td>\n",
       "      <td>11/28/2012</td>\n",
       "      <td>Paper</td>\n",
       "      <td>34</td>\n",
       "      <td>4</td>\n",
       "    </tr>\n",
       "  </tbody>\n",
       "</table>\n",
       "</div>"
      ],
      "text/plain": [
       "   countryCode  customerID PaperlessDate  invoiceNumber InvoiceDate  \\\n",
       "0          391  0379-NEVHP      4/6/2013         611365    1/2/2013   \n",
       "1          406  8976-AMJEO      3/3/2012        7900770   1/26/2013   \n",
       "2          391  2820-XGXSB     1/26/2012        9231909    7/3/2013   \n",
       "3          406  9322-YCTQO      4/6/2012        9888306   2/10/2013   \n",
       "4          818  6627-ELFBK    11/26/2012       15752855  10/25/2012   \n",
       "\n",
       "      DueDate  InvoiceAmount Disputed SettledDate PaperlessBill  DaysToSettle  \\\n",
       "0    2/1/2013          55.94       No   1/15/2013         Paper            13   \n",
       "1   2/25/2013          61.74      Yes    3/3/2013    Electronic            36   \n",
       "2    8/2/2013          65.88       No    7/8/2013    Electronic             5   \n",
       "3   3/12/2013         105.92       No   3/17/2013    Electronic            35   \n",
       "4  11/24/2012          72.27      Yes  11/28/2012         Paper            34   \n",
       "\n",
       "   DaysLate  \n",
       "0         0  \n",
       "1         6  \n",
       "2         0  \n",
       "3         5  \n",
       "4         4  "
      ]
     },
     "execution_count": 61,
     "metadata": {},
     "output_type": "execute_result"
    }
   ],
   "source": [
    "# Get a glimpse of data\n",
    "data.head()"
   ]
  },
  {
   "cell_type": "code",
   "execution_count": 62,
   "metadata": {},
   "outputs": [
    {
     "name": "stdout",
     "output_type": "stream",
     "text": [
      "<class 'pandas.core.frame.DataFrame'>\n",
      "RangeIndex: 2466 entries, 0 to 2465\n",
      "Data columns (total 12 columns):\n",
      "countryCode      2466 non-null int64\n",
      "customerID       2466 non-null object\n",
      "PaperlessDate    2466 non-null object\n",
      "invoiceNumber    2466 non-null int64\n",
      "InvoiceDate      2466 non-null object\n",
      "DueDate          2466 non-null object\n",
      "InvoiceAmount    2466 non-null float64\n",
      "Disputed         2466 non-null object\n",
      "SettledDate      2466 non-null object\n",
      "PaperlessBill    2466 non-null object\n",
      "DaysToSettle     2466 non-null int64\n",
      "DaysLate         2466 non-null int64\n",
      "dtypes: float64(1), int64(4), object(7)\n",
      "memory usage: 231.3+ KB\n"
     ]
    }
   ],
   "source": [
    "# Check information of the data\n",
    "data.info()"
   ]
  },
  {
   "cell_type": "code",
   "execution_count": 63,
   "metadata": {},
   "outputs": [
    {
     "data": {
      "text/plain": [
       "391    616\n",
       "406    561\n",
       "770    506\n",
       "897    396\n",
       "818    387\n",
       "Name: countryCode, dtype: int64"
      ]
     },
     "execution_count": 63,
     "metadata": {},
     "output_type": "execute_result"
    }
   ],
   "source": [
    "# Categories in countryCode\n",
    "data['countryCode'].value_counts()"
   ]
  },
  {
   "cell_type": "code",
   "execution_count": 64,
   "metadata": {},
   "outputs": [
    {
     "data": {
      "text/plain": [
       "100"
      ]
     },
     "execution_count": 64,
     "metadata": {},
     "output_type": "execute_result"
    }
   ],
   "source": [
    "# No. of different unique customers\n",
    "data['customerID'].value_counts().count()"
   ]
  },
  {
   "cell_type": "code",
   "execution_count": 65,
   "metadata": {},
   "outputs": [
    {
     "data": {
      "text/plain": [
       "0    1589\n",
       "1     877\n",
       "Name: Late, dtype: int64"
      ]
     },
     "execution_count": 65,
     "metadata": {},
     "output_type": "execute_result"
    }
   ],
   "source": [
    "# Generate a new binary column whether it was late or not\n",
    "data['Late'] = data.DaysLate.apply(lambda x: 1 if x>0 else 0)\n",
    "data['Late'].value_counts()"
   ]
  },
  {
   "cell_type": "code",
   "execution_count": 66,
   "metadata": {},
   "outputs": [
    {
     "name": "stderr",
     "output_type": "stream",
     "text": [
      "C:\\Users\\Abc\\Anaconda3\\lib\\site-packages\\ipykernel_launcher.py:9: FutureWarning: Comparing Series of datetimes with 'datetime.date'.  Currently, the\n",
      "'datetime.date' is coerced to a datetime. In the future pandas will\n",
      "not coerce, and a TypeError will be raised. To retain the current\n",
      "behavior, convert the 'datetime.date' to a datetime with\n",
      "'pd.Timestamp'.\n",
      "  if __name__ == '__main__':\n",
      "C:\\Users\\Abc\\Anaconda3\\lib\\site-packages\\ipykernel_launcher.py:10: FutureWarning: Comparing Series of datetimes with 'datetime.date'.  Currently, the\n",
      "'datetime.date' is coerced to a datetime. In the future pandas will\n",
      "not coerce, and a TypeError will be raised. To retain the current\n",
      "behavior, convert the 'datetime.date' to a datetime with\n",
      "'pd.Timestamp'.\n",
      "  # Remove the CWD from sys.path while we load stuff.\n"
     ]
    }
   ],
   "source": [
    "# Converting all date columns to datetime format in pandas\n",
    "import datetime\n",
    "data['PaperlessDate']= pd.to_datetime(data.PaperlessDate)\n",
    "data['InvoiceDate']= pd.to_datetime(data.InvoiceDate)\n",
    "data['SettledDate']= pd.to_datetime(data.SettledDate)\n",
    "data['DueDate']= pd.to_datetime(data.DueDate)\n",
    "\n",
    "# Spliting into train and test set based on dates(As our goal is to check whether there will be a late payment?)\n",
    "train_set = data[data['InvoiceDate'] < datetime.date(2013, 8, 1)] \n",
    "test_set = data[data['InvoiceDate'] >= datetime.date(2013, 8, 1)]"
   ]
  },
  {
   "cell_type": "code",
   "execution_count": 67,
   "metadata": {},
   "outputs": [
    {
     "data": {
      "text/html": [
       "<div>\n",
       "<style scoped>\n",
       "    .dataframe tbody tr th:only-of-type {\n",
       "        vertical-align: middle;\n",
       "    }\n",
       "\n",
       "    .dataframe tbody tr th {\n",
       "        vertical-align: top;\n",
       "    }\n",
       "\n",
       "    .dataframe thead th {\n",
       "        text-align: right;\n",
       "    }\n",
       "</style>\n",
       "<table border=\"1\" class=\"dataframe\">\n",
       "  <thead>\n",
       "    <tr style=\"text-align: right;\">\n",
       "      <th></th>\n",
       "      <th>ProbLatePaymentByCust</th>\n",
       "    </tr>\n",
       "    <tr>\n",
       "      <th>customerID</th>\n",
       "      <th></th>\n",
       "    </tr>\n",
       "  </thead>\n",
       "  <tbody>\n",
       "    <tr>\n",
       "      <th>0187-ERLSR</th>\n",
       "      <td>0.000000</td>\n",
       "    </tr>\n",
       "    <tr>\n",
       "      <th>0379-NEVHP</th>\n",
       "      <td>0.047619</td>\n",
       "    </tr>\n",
       "    <tr>\n",
       "      <th>0465-DTULQ</th>\n",
       "      <td>0.608696</td>\n",
       "    </tr>\n",
       "    <tr>\n",
       "      <th>0625-TNJFG</th>\n",
       "      <td>0.181818</td>\n",
       "    </tr>\n",
       "    <tr>\n",
       "      <th>0688-XNJRO</th>\n",
       "      <td>0.960000</td>\n",
       "    </tr>\n",
       "  </tbody>\n",
       "</table>\n",
       "</div>"
      ],
      "text/plain": [
       "            ProbLatePaymentByCust\n",
       "customerID                       \n",
       "0187-ERLSR               0.000000\n",
       "0379-NEVHP               0.047619\n",
       "0465-DTULQ               0.608696\n",
       "0625-TNJFG               0.181818\n",
       "0688-XNJRO               0.960000"
      ]
     },
     "execution_count": 67,
     "metadata": {},
     "output_type": "execute_result"
    }
   ],
   "source": [
    "# Assign train_set to data\n",
    "data = train_set\n",
    "# Assigning count to count total orders placed by customers and country\n",
    "data['count'] = 1\n",
    "# Calculate Probability of Customers Late Payment\n",
    "Y = data.groupby(data.customerID).sum()\n",
    "Y['ProbLatePaymentByCust'] = Y['Late']/Y['count']\n",
    "Y = Y.drop(['countryCode','invoiceNumber','InvoiceAmount','DaysToSettle', 'DaysLate','Late','count'], axis=1)\n",
    "Y.head()"
   ]
  },
  {
   "cell_type": "code",
   "execution_count": 68,
   "metadata": {
    "scrolled": true
   },
   "outputs": [
    {
     "data": {
      "text/html": [
       "<div>\n",
       "<style scoped>\n",
       "    .dataframe tbody tr th:only-of-type {\n",
       "        vertical-align: middle;\n",
       "    }\n",
       "\n",
       "    .dataframe tbody tr th {\n",
       "        vertical-align: top;\n",
       "    }\n",
       "\n",
       "    .dataframe thead th {\n",
       "        text-align: right;\n",
       "    }\n",
       "</style>\n",
       "<table border=\"1\" class=\"dataframe\">\n",
       "  <thead>\n",
       "    <tr style=\"text-align: right;\">\n",
       "      <th></th>\n",
       "      <th>ProbLatePaymentByCountry</th>\n",
       "    </tr>\n",
       "    <tr>\n",
       "      <th>countryCode</th>\n",
       "      <th></th>\n",
       "    </tr>\n",
       "  </thead>\n",
       "  <tbody>\n",
       "    <tr>\n",
       "      <th>391</th>\n",
       "      <td>0.263889</td>\n",
       "    </tr>\n",
       "    <tr>\n",
       "      <th>406</th>\n",
       "      <td>0.441860</td>\n",
       "    </tr>\n",
       "    <tr>\n",
       "      <th>770</th>\n",
       "      <td>0.427518</td>\n",
       "    </tr>\n",
       "    <tr>\n",
       "      <th>818</th>\n",
       "      <td>0.414110</td>\n",
       "    </tr>\n",
       "    <tr>\n",
       "      <th>897</th>\n",
       "      <td>0.327217</td>\n",
       "    </tr>\n",
       "  </tbody>\n",
       "</table>\n",
       "</div>"
      ],
      "text/plain": [
       "             ProbLatePaymentByCountry\n",
       "countryCode                          \n",
       "391                          0.263889\n",
       "406                          0.441860\n",
       "770                          0.427518\n",
       "818                          0.414110\n",
       "897                          0.327217"
      ]
     },
     "execution_count": 68,
     "metadata": {},
     "output_type": "execute_result"
    }
   ],
   "source": [
    "# Assigning new to count total orders placed by countries/ Total Orders by the customers of the country\n",
    "Z = data.groupby(data.countryCode).sum()\n",
    "Z['ProbLatePaymentByCountry'] = Z['Late']/Z['count']\n",
    "Z = Z.drop(['invoiceNumber','InvoiceAmount','DaysToSettle', 'DaysLate','Late','count'], axis=1)\n",
    "Z.head()"
   ]
  },
  {
   "cell_type": "code",
   "execution_count": 69,
   "metadata": {},
   "outputs": [
    {
     "data": {
      "text/html": [
       "<div>\n",
       "<style scoped>\n",
       "    .dataframe tbody tr th:only-of-type {\n",
       "        vertical-align: middle;\n",
       "    }\n",
       "\n",
       "    .dataframe tbody tr th {\n",
       "        vertical-align: top;\n",
       "    }\n",
       "\n",
       "    .dataframe thead th {\n",
       "        text-align: right;\n",
       "    }\n",
       "</style>\n",
       "<table border=\"1\" class=\"dataframe\">\n",
       "  <thead>\n",
       "    <tr style=\"text-align: right;\">\n",
       "      <th></th>\n",
       "      <th>InvoiceDate</th>\n",
       "      <th>InvoiceAmount</th>\n",
       "      <th>Disputed</th>\n",
       "      <th>PaperlessBill</th>\n",
       "      <th>Late</th>\n",
       "      <th>ProbLatePaymentByCust</th>\n",
       "      <th>ProbLatePaymentByCountry</th>\n",
       "    </tr>\n",
       "    <tr>\n",
       "      <th>countryCode</th>\n",
       "      <th></th>\n",
       "      <th></th>\n",
       "      <th></th>\n",
       "      <th></th>\n",
       "      <th></th>\n",
       "      <th></th>\n",
       "      <th></th>\n",
       "    </tr>\n",
       "  </thead>\n",
       "  <tbody>\n",
       "    <tr>\n",
       "      <th>391</th>\n",
       "      <td>2012-09-05</td>\n",
       "      <td>84.57</td>\n",
       "      <td>0</td>\n",
       "      <td>0</td>\n",
       "      <td>0</td>\n",
       "      <td>0.0</td>\n",
       "      <td>0.263889</td>\n",
       "    </tr>\n",
       "    <tr>\n",
       "      <th>391</th>\n",
       "      <td>2012-03-29</td>\n",
       "      <td>62.68</td>\n",
       "      <td>1</td>\n",
       "      <td>0</td>\n",
       "      <td>0</td>\n",
       "      <td>0.0</td>\n",
       "      <td>0.263889</td>\n",
       "    </tr>\n",
       "    <tr>\n",
       "      <th>391</th>\n",
       "      <td>2012-09-22</td>\n",
       "      <td>65.26</td>\n",
       "      <td>1</td>\n",
       "      <td>0</td>\n",
       "      <td>0</td>\n",
       "      <td>0.0</td>\n",
       "      <td>0.263889</td>\n",
       "    </tr>\n",
       "    <tr>\n",
       "      <th>391</th>\n",
       "      <td>2013-02-16</td>\n",
       "      <td>56.50</td>\n",
       "      <td>1</td>\n",
       "      <td>0</td>\n",
       "      <td>0</td>\n",
       "      <td>0.0</td>\n",
       "      <td>0.263889</td>\n",
       "    </tr>\n",
       "    <tr>\n",
       "      <th>391</th>\n",
       "      <td>2013-03-22</td>\n",
       "      <td>86.92</td>\n",
       "      <td>0</td>\n",
       "      <td>0</td>\n",
       "      <td>0</td>\n",
       "      <td>0.0</td>\n",
       "      <td>0.263889</td>\n",
       "    </tr>\n",
       "  </tbody>\n",
       "</table>\n",
       "</div>"
      ],
      "text/plain": [
       "            InvoiceDate  InvoiceAmount  Disputed  PaperlessBill  Late  \\\n",
       "countryCode                                                             \n",
       "391          2012-09-05          84.57         0              0     0   \n",
       "391          2012-03-29          62.68         1              0     0   \n",
       "391          2012-09-22          65.26         1              0     0   \n",
       "391          2013-02-16          56.50         1              0     0   \n",
       "391          2013-03-22          86.92         0              0     0   \n",
       "\n",
       "             ProbLatePaymentByCust  ProbLatePaymentByCountry  \n",
       "countryCode                                                   \n",
       "391                            0.0                  0.263889  \n",
       "391                            0.0                  0.263889  \n",
       "391                            0.0                  0.263889  \n",
       "391                            0.0                  0.263889  \n",
       "391                            0.0                  0.263889  "
      ]
     },
     "execution_count": 69,
     "metadata": {},
     "output_type": "execute_result"
    }
   ],
   "source": [
    "# Pipelien to apply transformations to data\n",
    "def pipeline_1(df, Y, Z):\n",
    "    df = df.set_index('customerID').join(Y)\n",
    "    df['customerID'] = df.index\n",
    "    df = df.set_index('countryCode').join(Z)\n",
    "    df['countryCode'] = df.index\n",
    "    df['Disputed'] = df['Disputed'].map({'No':0,'Yes':1})\n",
    "    df['PaperlessBill'] = df['PaperlessBill'].map({'Paper': 0,'Electronic': 1})\n",
    "    df = df.fillna(0)\n",
    "    df = df.drop(['PaperlessDate','invoiceNumber','DueDate','SettledDate','DaysToSettle','DaysLate','customerID','countryCode'], axis=1)\n",
    "    return df\n",
    "\n",
    "data = data.drop(['count'], axis=1)\n",
    "data = pipeline_1(data, Y, Z)\n",
    "data.head()"
   ]
  },
  {
   "cell_type": "code",
   "execution_count": 70,
   "metadata": {},
   "outputs": [
    {
     "data": {
      "text/plain": [
       "Late                        1.000000\n",
       "ProbLatePaymentByCust       0.702452\n",
       "Disputed                    0.377497\n",
       "ProbLatePaymentByCountry    0.149853\n",
       "InvoiceAmount               0.065159\n",
       "PaperlessBill              -0.144638\n",
       "Name: Late, dtype: float64"
      ]
     },
     "execution_count": 70,
     "metadata": {},
     "output_type": "execute_result"
    }
   ],
   "source": [
    "corr_matrix = data.corr()\n",
    "corr_matrix[\"Late\"].sort_values(ascending=False)"
   ]
  },
  {
   "cell_type": "code",
   "execution_count": 71,
   "metadata": {},
   "outputs": [
    {
     "data": {
      "text/plain": [
       "array([[<matplotlib.axes._subplots.AxesSubplot object at 0x0000022E5BB62278>,\n",
       "        <matplotlib.axes._subplots.AxesSubplot object at 0x0000022E5BD66358>,\n",
       "        <matplotlib.axes._subplots.AxesSubplot object at 0x0000022E5C2BD668>,\n",
       "        <matplotlib.axes._subplots.AxesSubplot object at 0x0000022E5C2E3BE0>,\n",
       "        <matplotlib.axes._subplots.AxesSubplot object at 0x0000022E5C311198>,\n",
       "        <matplotlib.axes._subplots.AxesSubplot object at 0x0000022E5C338710>],\n",
       "       [<matplotlib.axes._subplots.AxesSubplot object at 0x0000022E5C360C88>,\n",
       "        <matplotlib.axes._subplots.AxesSubplot object at 0x0000022E5C38F278>,\n",
       "        <matplotlib.axes._subplots.AxesSubplot object at 0x0000022E5C38F2B0>,\n",
       "        <matplotlib.axes._subplots.AxesSubplot object at 0x0000022E5C3DED30>,\n",
       "        <matplotlib.axes._subplots.AxesSubplot object at 0x0000022E5C4112E8>,\n",
       "        <matplotlib.axes._subplots.AxesSubplot object at 0x0000022E5C439860>],\n",
       "       [<matplotlib.axes._subplots.AxesSubplot object at 0x0000022E5C460DD8>,\n",
       "        <matplotlib.axes._subplots.AxesSubplot object at 0x0000022E5C490390>,\n",
       "        <matplotlib.axes._subplots.AxesSubplot object at 0x0000022E5C4B7908>,\n",
       "        <matplotlib.axes._subplots.AxesSubplot object at 0x0000022E5C4E0E80>,\n",
       "        <matplotlib.axes._subplots.AxesSubplot object at 0x0000022E5C512438>,\n",
       "        <matplotlib.axes._subplots.AxesSubplot object at 0x0000022E5C5389B0>],\n",
       "       [<matplotlib.axes._subplots.AxesSubplot object at 0x0000022E5C560F28>,\n",
       "        <matplotlib.axes._subplots.AxesSubplot object at 0x0000022E5C5924E0>,\n",
       "        <matplotlib.axes._subplots.AxesSubplot object at 0x0000022E5C5BAA20>,\n",
       "        <matplotlib.axes._subplots.AxesSubplot object at 0x0000022E5C5E3F98>,\n",
       "        <matplotlib.axes._subplots.AxesSubplot object at 0x0000022E5C614550>,\n",
       "        <matplotlib.axes._subplots.AxesSubplot object at 0x0000022E5C63BAC8>],\n",
       "       [<matplotlib.axes._subplots.AxesSubplot object at 0x0000022E5C66E080>,\n",
       "        <matplotlib.axes._subplots.AxesSubplot object at 0x0000022E5C6955F8>,\n",
       "        <matplotlib.axes._subplots.AxesSubplot object at 0x0000022E5C6BAB70>,\n",
       "        <matplotlib.axes._subplots.AxesSubplot object at 0x0000022E5C6ED128>,\n",
       "        <matplotlib.axes._subplots.AxesSubplot object at 0x0000022E5C7146A0>,\n",
       "        <matplotlib.axes._subplots.AxesSubplot object at 0x0000022E5C73CC18>],\n",
       "       [<matplotlib.axes._subplots.AxesSubplot object at 0x0000022E5C76D1D0>,\n",
       "        <matplotlib.axes._subplots.AxesSubplot object at 0x0000022E5C795748>,\n",
       "        <matplotlib.axes._subplots.AxesSubplot object at 0x0000022E5C7BECC0>,\n",
       "        <matplotlib.axes._subplots.AxesSubplot object at 0x0000022E5C7F0278>,\n",
       "        <matplotlib.axes._subplots.AxesSubplot object at 0x0000022E5C8167F0>,\n",
       "        <matplotlib.axes._subplots.AxesSubplot object at 0x0000022E5C840D68>]],\n",
       "      dtype=object)"
      ]
     },
     "execution_count": 71,
     "metadata": {},
     "output_type": "execute_result"
    },
    {
     "data": {
      "image/png": "[encoded data removed]",
      "text/plain": [
       "<Figure size 1080x576 with 36 Axes>"
      ]
     },
     "metadata": {
      "needs_background": "light"
     },
     "output_type": "display_data"
    }
   ],
   "source": [
    "from pandas.plotting import scatter_matrix\n",
    "\n",
    "scatter_matrix(data, figsize=(15,8))"
   ]
  },
  {
   "cell_type": "code",
   "execution_count": 72,
   "metadata": {},
   "outputs": [],
   "source": [
    "# Creating an dataframe with all dates between start and stop\n",
    "import pandas as pd\n",
    "import numpy as np\n",
    "start = '2011-11-01'\n",
    "stop = '2014-01-01'\n",
    "macro_variables = pd.date_range(start, stop)\n",
    "\n",
    "macro_variables = pd.DataFrame(macro_variables)\n",
    "macro_variables = macro_variables.rename(columns = {0:'DATE'})"
   ]
  },
  {
   "cell_type": "code",
   "execution_count": 73,
   "metadata": {},
   "outputs": [
    {
     "data": {
      "text/html": [
       "<div>\n",
       "<style scoped>\n",
       "    .dataframe tbody tr th:only-of-type {\n",
       "        vertical-align: middle;\n",
       "    }\n",
       "\n",
       "    .dataframe tbody tr th {\n",
       "        vertical-align: top;\n",
       "    }\n",
       "\n",
       "    .dataframe thead th {\n",
       "        text-align: right;\n",
       "    }\n",
       "</style>\n",
       "<table border=\"1\" class=\"dataframe\">\n",
       "  <thead>\n",
       "    <tr style=\"text-align: right;\">\n",
       "      <th></th>\n",
       "      <th>ICSA</th>\n",
       "      <th>INDPRO</th>\n",
       "      <th>PPIACO</th>\n",
       "    </tr>\n",
       "    <tr>\n",
       "      <th>DATE</th>\n",
       "      <th></th>\n",
       "      <th></th>\n",
       "      <th></th>\n",
       "    </tr>\n",
       "  </thead>\n",
       "  <tbody>\n",
       "    <tr>\n",
       "      <th>2011-11-01</th>\n",
       "      <td>NaN</td>\n",
       "      <td>NaN</td>\n",
       "      <td>NaN</td>\n",
       "    </tr>\n",
       "    <tr>\n",
       "      <th>2011-11-02</th>\n",
       "      <td>NaN</td>\n",
       "      <td>NaN</td>\n",
       "      <td>NaN</td>\n",
       "    </tr>\n",
       "    <tr>\n",
       "      <th>2011-11-03</th>\n",
       "      <td>NaN</td>\n",
       "      <td>NaN</td>\n",
       "      <td>NaN</td>\n",
       "    </tr>\n",
       "    <tr>\n",
       "      <th>2011-11-04</th>\n",
       "      <td>NaN</td>\n",
       "      <td>NaN</td>\n",
       "      <td>NaN</td>\n",
       "    </tr>\n",
       "    <tr>\n",
       "      <th>2011-11-05</th>\n",
       "      <td>NaN</td>\n",
       "      <td>NaN</td>\n",
       "      <td>NaN</td>\n",
       "    </tr>\n",
       "  </tbody>\n",
       "</table>\n",
       "</div>"
      ],
      "text/plain": [
       "            ICSA  INDPRO  PPIACO\n",
       "DATE                            \n",
       "2011-11-01   NaN     NaN     NaN\n",
       "2011-11-02   NaN     NaN     NaN\n",
       "2011-11-03   NaN     NaN     NaN\n",
       "2011-11-04   NaN     NaN     NaN\n",
       "2011-11-05   NaN     NaN     NaN"
      ]
     },
     "execution_count": 73,
     "metadata": {},
     "output_type": "execute_result"
    }
   ],
   "source": [
    "# Importing Macro-variables in pandas dataframe\n",
    "unemployment = pd.read_csv(os.path.join(\"datasets\", \"ICSA.csv\"))\n",
    "unemployment['DATE']= pd.to_datetime(unemployment.DATE)                  #Converting to pandas datetime format\n",
    "macro_prod = pd.read_csv(os.path.join(\"datasets\", \"INDPRO.csv\"))\n",
    "macro_prod['DATE']= pd.to_datetime(macro_prod.DATE)                      #Converting to pandas datetime format\n",
    "infla_rate = pd.read_csv(os.path.join(\"datasets\", \"PPIACO.csv\"))\n",
    "infla_rate['DATE']= pd.to_datetime(infla_rate.DATE)                      #Converting to pandas datetime format\n",
    "\n",
    "#Combining macrodata into one dataframe\n",
    "macro_variables = macro_variables.set_index('DATE').join(unemployment.set_index('DATE'))\n",
    "macro_variables = macro_variables.join(macro_prod.set_index('DATE'))\n",
    "macro_variables = macro_variables.join(infla_rate.set_index('DATE'))\n",
    "\n",
    "macro_variables.ffill(axis=0, inplace=True)  #Forward Filling blank Values\n",
    "\n",
    "macro_variables = macro_variables.pct_change()  #Calculating percentage change compared to previous release of data\n",
    "macro_variables.replace(0.00, np.nan, inplace=True)\n",
    "macro_variables = macro_variables.ffill(axis=0) #Forward Filling blank Values\n",
    "\n",
    "#macro_variables = macro_variables.reset_index() #Rest index back to normal from dates\n",
    "macro_variables.head()"
   ]
  },
  {
   "cell_type": "code",
   "execution_count": 74,
   "metadata": {},
   "outputs": [
    {
     "data": {
      "text/html": [
       "<div>\n",
       "<style scoped>\n",
       "    .dataframe tbody tr th:only-of-type {\n",
       "        vertical-align: middle;\n",
       "    }\n",
       "\n",
       "    .dataframe tbody tr th {\n",
       "        vertical-align: top;\n",
       "    }\n",
       "\n",
       "    .dataframe thead th {\n",
       "        text-align: right;\n",
       "    }\n",
       "</style>\n",
       "<table border=\"1\" class=\"dataframe\">\n",
       "  <thead>\n",
       "    <tr style=\"text-align: right;\">\n",
       "      <th></th>\n",
       "      <th>InvoiceAmount</th>\n",
       "      <th>Disputed</th>\n",
       "      <th>PaperlessBill</th>\n",
       "      <th>Late</th>\n",
       "      <th>ProbLatePaymentByCust</th>\n",
       "      <th>ProbLatePaymentByCountry</th>\n",
       "      <th>ICSA</th>\n",
       "      <th>INDPRO</th>\n",
       "      <th>PPIACO</th>\n",
       "    </tr>\n",
       "  </thead>\n",
       "  <tbody>\n",
       "    <tr>\n",
       "      <th>2012-01-03</th>\n",
       "      <td>55.37</td>\n",
       "      <td>0</td>\n",
       "      <td>0</td>\n",
       "      <td>1</td>\n",
       "      <td>0.818182</td>\n",
       "      <td>0.263889</td>\n",
       "      <td>-0.025907</td>\n",
       "      <td>0.006123</td>\n",
       "      <td>0.004505</td>\n",
       "    </tr>\n",
       "    <tr>\n",
       "      <th>2012-01-03</th>\n",
       "      <td>71.33</td>\n",
       "      <td>0</td>\n",
       "      <td>0</td>\n",
       "      <td>0</td>\n",
       "      <td>0.296296</td>\n",
       "      <td>0.441860</td>\n",
       "      <td>-0.025907</td>\n",
       "      <td>0.006123</td>\n",
       "      <td>0.004505</td>\n",
       "    </tr>\n",
       "    <tr>\n",
       "      <th>2012-01-03</th>\n",
       "      <td>50.39</td>\n",
       "      <td>0</td>\n",
       "      <td>0</td>\n",
       "      <td>0</td>\n",
       "      <td>0.000000</td>\n",
       "      <td>0.427518</td>\n",
       "      <td>-0.025907</td>\n",
       "      <td>0.006123</td>\n",
       "      <td>0.004505</td>\n",
       "    </tr>\n",
       "    <tr>\n",
       "      <th>2012-01-03</th>\n",
       "      <td>97.60</td>\n",
       "      <td>0</td>\n",
       "      <td>0</td>\n",
       "      <td>1</td>\n",
       "      <td>1.000000</td>\n",
       "      <td>0.414110</td>\n",
       "      <td>-0.025907</td>\n",
       "      <td>0.006123</td>\n",
       "      <td>0.004505</td>\n",
       "    </tr>\n",
       "    <tr>\n",
       "      <th>2012-01-03</th>\n",
       "      <td>15.99</td>\n",
       "      <td>1</td>\n",
       "      <td>0</td>\n",
       "      <td>1</td>\n",
       "      <td>0.620690</td>\n",
       "      <td>0.414110</td>\n",
       "      <td>-0.025907</td>\n",
       "      <td>0.006123</td>\n",
       "      <td>0.004505</td>\n",
       "    </tr>\n",
       "  </tbody>\n",
       "</table>\n",
       "</div>"
      ],
      "text/plain": [
       "            InvoiceAmount  Disputed  PaperlessBill  Late  \\\n",
       "2012-01-03          55.37         0              0     1   \n",
       "2012-01-03          71.33         0              0     0   \n",
       "2012-01-03          50.39         0              0     0   \n",
       "2012-01-03          97.60         0              0     1   \n",
       "2012-01-03          15.99         1              0     1   \n",
       "\n",
       "            ProbLatePaymentByCust  ProbLatePaymentByCountry      ICSA  \\\n",
       "2012-01-03               0.818182                  0.263889 -0.025907   \n",
       "2012-01-03               0.296296                  0.441860 -0.025907   \n",
       "2012-01-03               0.000000                  0.427518 -0.025907   \n",
       "2012-01-03               1.000000                  0.414110 -0.025907   \n",
       "2012-01-03               0.620690                  0.414110 -0.025907   \n",
       "\n",
       "              INDPRO    PPIACO  \n",
       "2012-01-03  0.006123  0.004505  \n",
       "2012-01-03  0.006123  0.004505  \n",
       "2012-01-03  0.006123  0.004505  \n",
       "2012-01-03  0.006123  0.004505  \n",
       "2012-01-03  0.006123  0.004505  "
      ]
     },
     "execution_count": 74,
     "metadata": {},
     "output_type": "execute_result"
    }
   ],
   "source": [
    "# pipeline to join macro-variables to test data\n",
    "def pipeline_2(df, macro_variables):\n",
    "    df = df.set_index('InvoiceDate').join(macro_variables)\n",
    "    return df\n",
    "\n",
    "data = pipeline_2(data, macro_variables)\n",
    "data.head()"
   ]
  },
  {
   "cell_type": "code",
   "execution_count": 75,
   "metadata": {},
   "outputs": [
    {
     "data": {
      "text/plain": [
       "Late                        1.000000\n",
       "ProbLatePaymentByCust       0.702452\n",
       "Disputed                    0.377497\n",
       "ProbLatePaymentByCountry    0.149853\n",
       "InvoiceAmount               0.065159\n",
       "INDPRO                      0.030707\n",
       "PPIACO                     -0.001318\n",
       "ICSA                       -0.018722\n",
       "PaperlessBill              -0.144638\n",
       "Name: Late, dtype: float64"
      ]
     },
     "execution_count": 75,
     "metadata": {},
     "output_type": "execute_result"
    }
   ],
   "source": [
    "corr_matrix = data.corr()\n",
    "corr_matrix[\"Late\"].sort_values(ascending=False)"
   ]
  },
  {
   "cell_type": "code",
   "execution_count": 76,
   "metadata": {},
   "outputs": [],
   "source": [
    "# Labeling for feeding to the model\n",
    "def pipeline_3(df):\n",
    "    df = df.drop(['InvoiceAmount','PaperlessBill'], axis=1)\n",
    "    return df\n",
    "\n",
    "data = pipeline_3(data)\n",
    "\n",
    "X = data.drop(['Late'],axis=1)\n",
    "y = data['Late'].copy()"
   ]
  },
  {
   "cell_type": "code",
   "execution_count": 77,
   "metadata": {},
   "outputs": [
    {
     "name": "stderr",
     "output_type": "stream",
     "text": [
      "C:\\Users\\Abc\\Anaconda3\\lib\\site-packages\\sklearn\\linear_model\\logistic.py:433: FutureWarning: Default solver will be changed to 'lbfgs' in 0.22. Specify a solver to silence this warning.\n",
      "  FutureWarning)\n"
     ]
    },
    {
     "data": {
      "text/plain": [
       "LogisticRegression(C=1.0, class_weight=None, dual=False, fit_intercept=True,\n",
       "          intercept_scaling=1, max_iter=100, multi_class='warn',\n",
       "          n_jobs=None, penalty='l2', random_state=69, solver='warn',\n",
       "          tol=0.0001, verbose=0, warm_start=False)"
      ]
     },
     "execution_count": 77,
     "metadata": {},
     "output_type": "execute_result"
    }
   ],
   "source": [
    "# Applying Logistic Regression\n",
    "from sklearn.linear_model import LogisticRegression\n",
    "\n",
    "log_clf = LogisticRegression(random_state=69)\n",
    "log_clf.fit(X,y)"
   ]
  },
  {
   "cell_type": "code",
   "execution_count": 78,
   "metadata": {},
   "outputs": [
    {
     "name": "stderr",
     "output_type": "stream",
     "text": [
      "C:\\Users\\Abc\\Anaconda3\\lib\\site-packages\\sklearn\\linear_model\\logistic.py:433: FutureWarning: Default solver will be changed to 'lbfgs' in 0.22. Specify a solver to silence this warning.\n",
      "  FutureWarning)\n",
      "C:\\Users\\Abc\\Anaconda3\\lib\\site-packages\\sklearn\\linear_model\\logistic.py:433: FutureWarning: Default solver will be changed to 'lbfgs' in 0.22. Specify a solver to silence this warning.\n",
      "  FutureWarning)\n",
      "C:\\Users\\Abc\\Anaconda3\\lib\\site-packages\\sklearn\\linear_model\\logistic.py:433: FutureWarning: Default solver will be changed to 'lbfgs' in 0.22. Specify a solver to silence this warning.\n",
      "  FutureWarning)\n",
      "C:\\Users\\Abc\\Anaconda3\\lib\\site-packages\\sklearn\\linear_model\\logistic.py:433: FutureWarning: Default solver will be changed to 'lbfgs' in 0.22. Specify a solver to silence this warning.\n",
      "  FutureWarning)\n",
      "C:\\Users\\Abc\\Anaconda3\\lib\\site-packages\\sklearn\\linear_model\\logistic.py:433: FutureWarning: Default solver will be changed to 'lbfgs' in 0.22. Specify a solver to silence this warning.\n",
      "  FutureWarning)\n",
      "C:\\Users\\Abc\\Anaconda3\\lib\\site-packages\\sklearn\\linear_model\\logistic.py:433: FutureWarning: Default solver will be changed to 'lbfgs' in 0.22. Specify a solver to silence this warning.\n",
      "  FutureWarning)\n",
      "C:\\Users\\Abc\\Anaconda3\\lib\\site-packages\\sklearn\\linear_model\\logistic.py:433: FutureWarning: Default solver will be changed to 'lbfgs' in 0.22. Specify a solver to silence this warning.\n",
      "  FutureWarning)\n",
      "C:\\Users\\Abc\\Anaconda3\\lib\\site-packages\\sklearn\\linear_model\\logistic.py:433: FutureWarning: Default solver will be changed to 'lbfgs' in 0.22. Specify a solver to silence this warning.\n",
      "  FutureWarning)\n",
      "C:\\Users\\Abc\\Anaconda3\\lib\\site-packages\\sklearn\\linear_model\\logistic.py:433: FutureWarning: Default solver will be changed to 'lbfgs' in 0.22. Specify a solver to silence this warning.\n",
      "  FutureWarning)\n",
      "C:\\Users\\Abc\\Anaconda3\\lib\\site-packages\\sklearn\\linear_model\\logistic.py:433: FutureWarning: Default solver will be changed to 'lbfgs' in 0.22. Specify a solver to silence this warning.\n",
      "  FutureWarning)\n",
      "C:\\Users\\Abc\\Anaconda3\\lib\\site-packages\\sklearn\\linear_model\\logistic.py:433: FutureWarning: Default solver will be changed to 'lbfgs' in 0.22. Specify a solver to silence this warning.\n",
      "  FutureWarning)\n",
      "C:\\Users\\Abc\\Anaconda3\\lib\\site-packages\\sklearn\\linear_model\\logistic.py:433: FutureWarning: Default solver will be changed to 'lbfgs' in 0.22. Specify a solver to silence this warning.\n",
      "  FutureWarning)\n"
     ]
    },
    {
     "name": "stdout",
     "output_type": "stream",
     "text": [
      "Average accuracy using log_clf: 0.86\n",
      "Average precision using log_clf: 0.83\n",
      "Average recall using log_clf: 0.79\n"
     ]
    }
   ],
   "source": [
    "from sklearn.model_selection import cross_val_score\n",
    "accuracy = cross_val_score(log_clf, X, y, cv=4, scoring=\"accuracy\")\n",
    "precision = cross_val_score(log_clf, X, y, cv=4, scoring=\"precision\")\n",
    "recall = cross_val_score(log_clf, X, y, cv=4, scoring=\"recall\")\n",
    "\n",
    "def Average(lst): \n",
    "    return sum(lst) / len(lst) \n",
    "\n",
    "accuracy = Average(accuracy)\n",
    "precision = Average(precision)\n",
    "recall = Average(recall)\n",
    "\n",
    "print('Average accuracy using log_clf:', round(accuracy,2))\n",
    "print('Average precision using log_clf:', round(precision,2))\n",
    "print('Average recall using log_clf:', round(recall,2))"
   ]
  },
  {
   "cell_type": "code",
   "execution_count": 79,
   "metadata": {},
   "outputs": [
    {
     "name": "stderr",
     "output_type": "stream",
     "text": [
      "C:\\Users\\Abc\\Anaconda3\\lib\\site-packages\\sklearn\\svm\\base.py:931: ConvergenceWarning: Liblinear failed to converge, increase the number of iterations.\n",
      "  \"the number of iterations.\", ConvergenceWarning)\n"
     ]
    },
    {
     "data": {
      "text/plain": [
       "LinearSVC(C=1, class_weight=None, dual=True, fit_intercept=True,\n",
       "     intercept_scaling=1, loss='hinge', max_iter=1000, multi_class='ovr',\n",
       "     penalty='l2', random_state=69, tol=0.0001, verbose=0)"
      ]
     },
     "execution_count": 79,
     "metadata": {},
     "output_type": "execute_result"
    }
   ],
   "source": [
    "# Applying Support Vector Machine\n",
    "from sklearn.svm import LinearSVC\n",
    "linear_svc_clf = LinearSVC(C=1, loss='hinge',random_state=69)\n",
    "linear_svc_clf.fit(X, y)"
   ]
  },
  {
   "cell_type": "code",
   "execution_count": 80,
   "metadata": {},
   "outputs": [
    {
     "name": "stderr",
     "output_type": "stream",
     "text": [
      "C:\\Users\\Abc\\Anaconda3\\lib\\site-packages\\sklearn\\svm\\base.py:931: ConvergenceWarning: Liblinear failed to converge, increase the number of iterations.\n",
      "  \"the number of iterations.\", ConvergenceWarning)\n",
      "C:\\Users\\Abc\\Anaconda3\\lib\\site-packages\\sklearn\\svm\\base.py:931: ConvergenceWarning: Liblinear failed to converge, increase the number of iterations.\n",
      "  \"the number of iterations.\", ConvergenceWarning)\n",
      "C:\\Users\\Abc\\Anaconda3\\lib\\site-packages\\sklearn\\svm\\base.py:931: ConvergenceWarning: Liblinear failed to converge, increase the number of iterations.\n",
      "  \"the number of iterations.\", ConvergenceWarning)\n",
      "C:\\Users\\Abc\\Anaconda3\\lib\\site-packages\\sklearn\\svm\\base.py:931: ConvergenceWarning: Liblinear failed to converge, increase the number of iterations.\n",
      "  \"the number of iterations.\", ConvergenceWarning)\n",
      "C:\\Users\\Abc\\Anaconda3\\lib\\site-packages\\sklearn\\svm\\base.py:931: ConvergenceWarning: Liblinear failed to converge, increase the number of iterations.\n",
      "  \"the number of iterations.\", ConvergenceWarning)\n",
      "C:\\Users\\Abc\\Anaconda3\\lib\\site-packages\\sklearn\\svm\\base.py:931: ConvergenceWarning: Liblinear failed to converge, increase the number of iterations.\n",
      "  \"the number of iterations.\", ConvergenceWarning)\n",
      "C:\\Users\\Abc\\Anaconda3\\lib\\site-packages\\sklearn\\svm\\base.py:931: ConvergenceWarning: Liblinear failed to converge, increase the number of iterations.\n",
      "  \"the number of iterations.\", ConvergenceWarning)\n",
      "C:\\Users\\Abc\\Anaconda3\\lib\\site-packages\\sklearn\\svm\\base.py:931: ConvergenceWarning: Liblinear failed to converge, increase the number of iterations.\n",
      "  \"the number of iterations.\", ConvergenceWarning)\n",
      "C:\\Users\\Abc\\Anaconda3\\lib\\site-packages\\sklearn\\svm\\base.py:931: ConvergenceWarning: Liblinear failed to converge, increase the number of iterations.\n",
      "  \"the number of iterations.\", ConvergenceWarning)\n",
      "C:\\Users\\Abc\\Anaconda3\\lib\\site-packages\\sklearn\\svm\\base.py:931: ConvergenceWarning: Liblinear failed to converge, increase the number of iterations.\n",
      "  \"the number of iterations.\", ConvergenceWarning)\n",
      "C:\\Users\\Abc\\Anaconda3\\lib\\site-packages\\sklearn\\svm\\base.py:931: ConvergenceWarning: Liblinear failed to converge, increase the number of iterations.\n",
      "  \"the number of iterations.\", ConvergenceWarning)\n",
      "C:\\Users\\Abc\\Anaconda3\\lib\\site-packages\\sklearn\\svm\\base.py:931: ConvergenceWarning: Liblinear failed to converge, increase the number of iterations.\n",
      "  \"the number of iterations.\", ConvergenceWarning)\n"
     ]
    },
    {
     "name": "stdout",
     "output_type": "stream",
     "text": [
      "Average accuracy using linear_svc_clf: 0.86\n",
      "Average precision using linear_svc_clf: 0.81\n",
      "Average recall using linear_svc_clf: 0.81\n"
     ]
    }
   ],
   "source": [
    "accuracy = cross_val_score(linear_svc_clf, X, y, cv=4, scoring=\"accuracy\")\n",
    "precision = cross_val_score(linear_svc_clf, X, y, cv=4, scoring=\"precision\")\n",
    "recall = cross_val_score(linear_svc_clf, X, y, cv=4, scoring=\"recall\")\n",
    "\n",
    "accuracy = Average(accuracy)\n",
    "precision = Average(precision)\n",
    "recall = Average(recall)\n",
    "\n",
    "print('Average accuracy using linear_svc_clf:', round(accuracy,2))\n",
    "print('Average precision using linear_svc_clf:', round(precision,2))\n",
    "print('Average recall using linear_svc_clf:', round(recall,2))"
   ]
  },
  {
   "cell_type": "code",
   "execution_count": 81,
   "metadata": {},
   "outputs": [
    {
     "data": {
      "text/plain": [
       "DecisionTreeClassifier(class_weight=None, criterion='gini', max_depth=3,\n",
       "            max_features=None, max_leaf_nodes=None,\n",
       "            min_impurity_decrease=0.0, min_impurity_split=None,\n",
       "            min_samples_leaf=1, min_samples_split=2,\n",
       "            min_weight_fraction_leaf=0.0, presort=False, random_state=69,\n",
       "            splitter='best')"
      ]
     },
     "execution_count": 81,
     "metadata": {},
     "output_type": "execute_result"
    }
   ],
   "source": [
    "# Applying Decision Tree Classifier\n",
    "from sklearn.tree import DecisionTreeClassifier\n",
    "tree_clf = DecisionTreeClassifier(max_depth=3, random_state=69)\n",
    "tree_clf.fit(X, y)"
   ]
  },
  {
   "cell_type": "code",
   "execution_count": 82,
   "metadata": {},
   "outputs": [
    {
     "name": "stdout",
     "output_type": "stream",
     "text": [
      "Average accuracy using tree_clf: 0.86\n",
      "Average precision using tree_clf: 0.81\n",
      "Average recall using tree_clf: 0.81\n"
     ]
    }
   ],
   "source": [
    "accuracy = cross_val_score(tree_clf, X, y, cv=4, scoring=\"accuracy\")\n",
    "precision = cross_val_score(tree_clf, X, y, cv=4, scoring=\"precision\")\n",
    "recall = cross_val_score(tree_clf, X, y, cv=4, scoring=\"recall\")\n",
    "\n",
    "accuracy = Average(accuracy)\n",
    "precision = Average(precision)\n",
    "recall = Average(recall)\n",
    "\n",
    "print('Average accuracy using tree_clf:', round(accuracy,2))\n",
    "print('Average precision using tree_clf:', round(precision,2))\n",
    "print('Average recall using tree_clf:', round(recall,2))"
   ]
  },
  {
   "cell_type": "code",
   "execution_count": 83,
   "metadata": {},
   "outputs": [
    {
     "name": "stderr",
     "output_type": "stream",
     "text": [
      "C:\\Users\\Abc\\Anaconda3\\lib\\site-packages\\sklearn\\linear_model\\logistic.py:433: FutureWarning: Default solver will be changed to 'lbfgs' in 0.22. Specify a solver to silence this warning.\n",
      "  FutureWarning)\n",
      "C:\\Users\\Abc\\Anaconda3\\lib\\site-packages\\sklearn\\svm\\base.py:931: ConvergenceWarning: Liblinear failed to converge, increase the number of iterations.\n",
      "  \"the number of iterations.\", ConvergenceWarning)\n"
     ]
    },
    {
     "data": {
      "text/plain": [
       "VotingClassifier(estimators=[('lr', LogisticRegression(C=1.0, class_weight=None, dual=False, fit_intercept=True,\n",
       "          intercept_scaling=1, max_iter=100, multi_class='warn',\n",
       "          n_jobs=None, penalty='l2', random_state=69, solver='warn',\n",
       "          tol=0.0001, verbose=0, warm_start=False)), ('svc', LinearSVC...        min_weight_fraction_leaf=0.0, presort=False, random_state=69,\n",
       "            splitter='best'))],\n",
       "         flatten_transform=None, n_jobs=None, voting='hard', weights=None)"
      ]
     },
     "execution_count": 83,
     "metadata": {},
     "output_type": "execute_result"
    }
   ],
   "source": [
    "# Applying Voting Classifier\n",
    "from sklearn.ensemble import VotingClassifier\n",
    "voting_clf = VotingClassifier(\n",
    "estimators=[('lr', log_clf), ('svc', linear_svc_clf), ('rf', tree_clf)],\n",
    "            voting='hard'\n",
    "            )\n",
    "voting_clf.fit(X, y)"
   ]
  },
  {
   "cell_type": "code",
   "execution_count": 84,
   "metadata": {},
   "outputs": [
    {
     "name": "stderr",
     "output_type": "stream",
     "text": [
      "C:\\Users\\Abc\\Anaconda3\\lib\\site-packages\\sklearn\\linear_model\\logistic.py:433: FutureWarning: Default solver will be changed to 'lbfgs' in 0.22. Specify a solver to silence this warning.\n",
      "  FutureWarning)\n",
      "C:\\Users\\Abc\\Anaconda3\\lib\\site-packages\\sklearn\\svm\\base.py:931: ConvergenceWarning: Liblinear failed to converge, increase the number of iterations.\n",
      "  \"the number of iterations.\", ConvergenceWarning)\n",
      "C:\\Users\\Abc\\Anaconda3\\lib\\site-packages\\sklearn\\linear_model\\logistic.py:433: FutureWarning: Default solver will be changed to 'lbfgs' in 0.22. Specify a solver to silence this warning.\n",
      "  FutureWarning)\n",
      "C:\\Users\\Abc\\Anaconda3\\lib\\site-packages\\sklearn\\svm\\base.py:931: ConvergenceWarning: Liblinear failed to converge, increase the number of iterations.\n",
      "  \"the number of iterations.\", ConvergenceWarning)\n",
      "C:\\Users\\Abc\\Anaconda3\\lib\\site-packages\\sklearn\\linear_model\\logistic.py:433: FutureWarning: Default solver will be changed to 'lbfgs' in 0.22. Specify a solver to silence this warning.\n",
      "  FutureWarning)\n",
      "C:\\Users\\Abc\\Anaconda3\\lib\\site-packages\\sklearn\\svm\\base.py:931: ConvergenceWarning: Liblinear failed to converge, increase the number of iterations.\n",
      "  \"the number of iterations.\", ConvergenceWarning)\n",
      "C:\\Users\\Abc\\Anaconda3\\lib\\site-packages\\sklearn\\linear_model\\logistic.py:433: FutureWarning: Default solver will be changed to 'lbfgs' in 0.22. Specify a solver to silence this warning.\n",
      "  FutureWarning)\n",
      "C:\\Users\\Abc\\Anaconda3\\lib\\site-packages\\sklearn\\svm\\base.py:931: ConvergenceWarning: Liblinear failed to converge, increase the number of iterations.\n",
      "  \"the number of iterations.\", ConvergenceWarning)\n",
      "C:\\Users\\Abc\\Anaconda3\\lib\\site-packages\\sklearn\\linear_model\\logistic.py:433: FutureWarning: Default solver will be changed to 'lbfgs' in 0.22. Specify a solver to silence this warning.\n",
      "  FutureWarning)\n",
      "C:\\Users\\Abc\\Anaconda3\\lib\\site-packages\\sklearn\\svm\\base.py:931: ConvergenceWarning: Liblinear failed to converge, increase the number of iterations.\n",
      "  \"the number of iterations.\", ConvergenceWarning)\n",
      "C:\\Users\\Abc\\Anaconda3\\lib\\site-packages\\sklearn\\linear_model\\logistic.py:433: FutureWarning: Default solver will be changed to 'lbfgs' in 0.22. Specify a solver to silence this warning.\n",
      "  FutureWarning)\n",
      "C:\\Users\\Abc\\Anaconda3\\lib\\site-packages\\sklearn\\svm\\base.py:931: ConvergenceWarning: Liblinear failed to converge, increase the number of iterations.\n",
      "  \"the number of iterations.\", ConvergenceWarning)\n",
      "C:\\Users\\Abc\\Anaconda3\\lib\\site-packages\\sklearn\\linear_model\\logistic.py:433: FutureWarning: Default solver will be changed to 'lbfgs' in 0.22. Specify a solver to silence this warning.\n",
      "  FutureWarning)\n",
      "C:\\Users\\Abc\\Anaconda3\\lib\\site-packages\\sklearn\\svm\\base.py:931: ConvergenceWarning: Liblinear failed to converge, increase the number of iterations.\n",
      "  \"the number of iterations.\", ConvergenceWarning)\n",
      "C:\\Users\\Abc\\Anaconda3\\lib\\site-packages\\sklearn\\linear_model\\logistic.py:433: FutureWarning: Default solver will be changed to 'lbfgs' in 0.22. Specify a solver to silence this warning.\n",
      "  FutureWarning)\n",
      "C:\\Users\\Abc\\Anaconda3\\lib\\site-packages\\sklearn\\svm\\base.py:931: ConvergenceWarning: Liblinear failed to converge, increase the number of iterations.\n",
      "  \"the number of iterations.\", ConvergenceWarning)\n",
      "C:\\Users\\Abc\\Anaconda3\\lib\\site-packages\\sklearn\\linear_model\\logistic.py:433: FutureWarning: Default solver will be changed to 'lbfgs' in 0.22. Specify a solver to silence this warning.\n",
      "  FutureWarning)\n",
      "C:\\Users\\Abc\\Anaconda3\\lib\\site-packages\\sklearn\\svm\\base.py:931: ConvergenceWarning: Liblinear failed to converge, increase the number of iterations.\n",
      "  \"the number of iterations.\", ConvergenceWarning)\n",
      "C:\\Users\\Abc\\Anaconda3\\lib\\site-packages\\sklearn\\linear_model\\logistic.py:433: FutureWarning: Default solver will be changed to 'lbfgs' in 0.22. Specify a solver to silence this warning.\n",
      "  FutureWarning)\n",
      "C:\\Users\\Abc\\Anaconda3\\lib\\site-packages\\sklearn\\svm\\base.py:931: ConvergenceWarning: Liblinear failed to converge, increase the number of iterations.\n",
      "  \"the number of iterations.\", ConvergenceWarning)\n",
      "C:\\Users\\Abc\\Anaconda3\\lib\\site-packages\\sklearn\\linear_model\\logistic.py:433: FutureWarning: Default solver will be changed to 'lbfgs' in 0.22. Specify a solver to silence this warning.\n",
      "  FutureWarning)\n",
      "C:\\Users\\Abc\\Anaconda3\\lib\\site-packages\\sklearn\\svm\\base.py:931: ConvergenceWarning: Liblinear failed to converge, increase the number of iterations.\n",
      "  \"the number of iterations.\", ConvergenceWarning)\n",
      "C:\\Users\\Abc\\Anaconda3\\lib\\site-packages\\sklearn\\linear_model\\logistic.py:433: FutureWarning: Default solver will be changed to 'lbfgs' in 0.22. Specify a solver to silence this warning.\n",
      "  FutureWarning)\n",
      "C:\\Users\\Abc\\Anaconda3\\lib\\site-packages\\sklearn\\svm\\base.py:931: ConvergenceWarning: Liblinear failed to converge, increase the number of iterations.\n",
      "  \"the number of iterations.\", ConvergenceWarning)\n"
     ]
    },
    {
     "name": "stdout",
     "output_type": "stream",
     "text": [
      "Average accuracy using voting_clf: 0.86\n",
      "Average precision using voting_clf: 0.82\n",
      "Average recall using voting_clf: 0.8\n"
     ]
    }
   ],
   "source": [
    "accuracy = cross_val_score(voting_clf, X, y, cv=4, scoring=\"accuracy\")\n",
    "precision = cross_val_score(voting_clf, X, y, cv=4, scoring=\"precision\")\n",
    "recall = cross_val_score(voting_clf, X, y, cv=4, scoring=\"recall\")\n",
    "\n",
    "accuracy = Average(accuracy)\n",
    "precision = Average(precision)\n",
    "recall = Average(recall)\n",
    "\n",
    "print('Average accuracy using voting_clf:', round(accuracy,2))\n",
    "print('Average precision using voting_clf:', round(precision,2))\n",
    "print('Average recall using voting_clf:', round(recall,2))"
   ]
  },
  {
   "cell_type": "code",
   "execution_count": 85,
   "metadata": {},
   "outputs": [
    {
     "data": {
      "text/plain": [
       "AdaBoostClassifier(algorithm='SAMME.R',\n",
       "          base_estimator=DecisionTreeClassifier(class_weight=None, criterion='gini', max_depth=3,\n",
       "            max_features=None, max_leaf_nodes=None,\n",
       "            min_impurity_decrease=0.0, min_impurity_split=None,\n",
       "            min_samples_leaf=1, min_samples_split=2,\n",
       "            min_weight_fraction_leaf=0.0, presort=False, random_state=None,\n",
       "            splitter='best'),\n",
       "          learning_rate=0.5, n_estimators=100, random_state=69)"
      ]
     },
     "execution_count": 85,
     "metadata": {},
     "output_type": "execute_result"
    }
   ],
   "source": [
    "# Applying AdaBoost\n",
    "from sklearn.ensemble import AdaBoostClassifier\n",
    "ada_clf = AdaBoostClassifier(\n",
    "        DecisionTreeClassifier(max_depth=3), n_estimators=100,\n",
    "        algorithm=\"SAMME.R\", learning_rate=0.5, random_state=69\n",
    "        )\n",
    "ada_clf.fit(X, y)"
   ]
  },
  {
   "cell_type": "code",
   "execution_count": 86,
   "metadata": {},
   "outputs": [
    {
     "name": "stdout",
     "output_type": "stream",
     "text": [
      "Average accuracy using ada_clf: 0.75\n",
      "Average precision using ada_clf: 0.66\n",
      "Average recall using ada_clf: 0.7\n"
     ]
    }
   ],
   "source": [
    "accuracy = cross_val_score(ada_clf, X, y, cv=4, scoring=\"accuracy\")\n",
    "precision = cross_val_score(ada_clf, X, y, cv=4, scoring=\"precision\")\n",
    "recall = cross_val_score(ada_clf, X, y, cv=4, scoring=\"recall\")\n",
    "\n",
    "accuracy = Average(accuracy)\n",
    "precision = Average(precision)\n",
    "recall = Average(recall)\n",
    "\n",
    "print('Average accuracy using ada_clf:', round(accuracy,2))\n",
    "print('Average precision using ada_clf:', round(precision,2))\n",
    "print('Average recall using ada_clf:', round(recall,2))"
   ]
  },
  {
   "cell_type": "code",
   "execution_count": 87,
   "metadata": {},
   "outputs": [],
   "source": [
    "# Converting to full pipeline to apply to test_set\n",
    "def full_pipeline(df, Y, Z, macro_variables):\n",
    "    phase_1 = pipeline_1(df, Y, Z)\n",
    "    phase_2 = pipeline_2(phase_1, macro_variables)\n",
    "    phase_3 = pipeline_3(phase_2)\n",
    "    return phase_3\n",
    "\n",
    "test = full_pipeline(test_set, Y, Z, macro_variables)"
   ]
  },
  {
   "cell_type": "code",
   "execution_count": 111,
   "metadata": {},
   "outputs": [
    {
     "data": {
      "text/html": [
       "<div>\n",
       "<style scoped>\n",
       "    .dataframe tbody tr th:only-of-type {\n",
       "        vertical-align: middle;\n",
       "    }\n",
       "\n",
       "    .dataframe tbody tr th {\n",
       "        vertical-align: top;\n",
       "    }\n",
       "\n",
       "    .dataframe thead th {\n",
       "        text-align: right;\n",
       "    }\n",
       "</style>\n",
       "<table border=\"1\" class=\"dataframe\">\n",
       "  <thead>\n",
       "    <tr style=\"text-align: right;\">\n",
       "      <th></th>\n",
       "      <th>Disputed</th>\n",
       "      <th>ProbLatePaymentByCust</th>\n",
       "      <th>ProbLatePaymentByCountry</th>\n",
       "      <th>ICSA</th>\n",
       "      <th>INDPRO</th>\n",
       "      <th>PPIACO</th>\n",
       "    </tr>\n",
       "  </thead>\n",
       "  <tbody>\n",
       "    <tr>\n",
       "      <th>2013-08-01</th>\n",
       "      <td>1</td>\n",
       "      <td>0.238095</td>\n",
       "      <td>0.263889</td>\n",
       "      <td>-0.059155</td>\n",
       "      <td>0.006603</td>\n",
       "      <td>-0.000978</td>\n",
       "    </tr>\n",
       "    <tr>\n",
       "      <th>2013-08-01</th>\n",
       "      <td>0</td>\n",
       "      <td>0.956522</td>\n",
       "      <td>0.427518</td>\n",
       "      <td>-0.059155</td>\n",
       "      <td>0.006603</td>\n",
       "      <td>-0.000978</td>\n",
       "    </tr>\n",
       "    <tr>\n",
       "      <th>2013-08-01</th>\n",
       "      <td>0</td>\n",
       "      <td>0.000000</td>\n",
       "      <td>0.414110</td>\n",
       "      <td>-0.059155</td>\n",
       "      <td>0.006603</td>\n",
       "      <td>-0.000978</td>\n",
       "    </tr>\n",
       "    <tr>\n",
       "      <th>2013-08-01</th>\n",
       "      <td>0</td>\n",
       "      <td>0.333333</td>\n",
       "      <td>0.414110</td>\n",
       "      <td>-0.059155</td>\n",
       "      <td>0.006603</td>\n",
       "      <td>-0.000978</td>\n",
       "    </tr>\n",
       "    <tr>\n",
       "      <th>2013-08-03</th>\n",
       "      <td>0</td>\n",
       "      <td>0.705882</td>\n",
       "      <td>0.263889</td>\n",
       "      <td>0.014970</td>\n",
       "      <td>0.006603</td>\n",
       "      <td>-0.000978</td>\n",
       "    </tr>\n",
       "  </tbody>\n",
       "</table>\n",
       "</div>"
      ],
      "text/plain": [
       "            Disputed  ProbLatePaymentByCust  ProbLatePaymentByCountry  \\\n",
       "2013-08-01         1               0.238095                  0.263889   \n",
       "2013-08-01         0               0.956522                  0.427518   \n",
       "2013-08-01         0               0.000000                  0.414110   \n",
       "2013-08-01         0               0.333333                  0.414110   \n",
       "2013-08-03         0               0.705882                  0.263889   \n",
       "\n",
       "                ICSA    INDPRO    PPIACO  \n",
       "2013-08-01 -0.059155  0.006603 -0.000978  \n",
       "2013-08-01 -0.059155  0.006603 -0.000978  \n",
       "2013-08-01 -0.059155  0.006603 -0.000978  \n",
       "2013-08-01 -0.059155  0.006603 -0.000978  \n",
       "2013-08-03  0.014970  0.006603 -0.000978  "
      ]
     },
     "execution_count": 111,
     "metadata": {},
     "output_type": "execute_result"
    }
   ],
   "source": [
    "X = test.drop(['Late'],axis=1)\n",
    "y = test['Late'].copy()\n",
    "X.head()"
   ]
  },
  {
   "cell_type": "code",
   "execution_count": 124,
   "metadata": {},
   "outputs": [],
   "source": [
    "result = tree_clf.predict(X)"
   ]
  },
  {
   "cell_type": "code",
   "execution_count": 128,
   "metadata": {},
   "outputs": [
    {
     "data": {
      "text/plain": [
       "0.7563025210084033"
      ]
     },
     "execution_count": 128,
     "metadata": {},
     "output_type": "execute_result"
    }
   ],
   "source": [
    "from sklearn.metrics import precision_score, recall_score, accuracy_score\n",
    "precision_score(result, y)"
   ]
  },
  {
   "cell_type": "code",
   "execution_count": 129,
   "metadata": {},
   "outputs": [
    {
     "data": {
      "text/plain": [
       "0.656934306569343"
      ]
     },
     "execution_count": 129,
     "metadata": {},
     "output_type": "execute_result"
    }
   ],
   "source": [
    "recall_score(result, y)"
   ]
  },
  {
   "cell_type": "code",
   "execution_count": 130,
   "metadata": {},
   "outputs": [
    {
     "data": {
      "text/plain": [
       "0.8228438228438228"
      ]
     },
     "execution_count": 130,
     "metadata": {},
     "output_type": "execute_result"
    }
   ],
   "source": [
    "accuracy_score(result, y)"
   ]
  }
 ],
 "metadata": {
  "kernelspec": {
   "display_name": "Python 3",
   "language": "python",
   "name": "python3"
  },
  "language_info": {
   "codemirror_mode": {
    "name": "ipython",
    "version": 3
   },
   "file_extension": ".py",
   "mimetype": "text/x-python",
   "name": "python",
   "nbconvert_exporter": "python",
   "pygments_lexer": "ipython3",
   "version": "3.8.3"
  }
 },
 "nbformat": 4,
 "nbformat_minor": 2
}
